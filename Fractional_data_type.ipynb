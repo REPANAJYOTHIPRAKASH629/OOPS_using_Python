{
  "nbformat": 4,
  "nbformat_minor": 0,
  "metadata": {
    "colab": {
      "provenance": [],
      "authorship_tag": "ABX9TyNaHUNZCrEir9E15AhhZ6EL",
      "include_colab_link": true
    },
    "kernelspec": {
      "name": "python3",
      "display_name": "Python 3"
    },
    "language_info": {
      "name": "python"
    }
  },
  "cells": [
    {
      "cell_type": "markdown",
      "metadata": {
        "id": "view-in-github",
        "colab_type": "text"
      },
      "source": [
        "<a href=\"https://colab.research.google.com/github/REPANAJYOTHIPRAKASH629/OOPS_using_Python/blob/master/Fractional_data_type.ipynb\" target=\"_parent\"><img src=\"https://colab.research.google.com/assets/colab-badge.svg\" alt=\"Open In Colab\"/></a>"
      ]
    },
    {
      "cell_type": "markdown",
      "source": [
        "# ***Fractional data type***"
      ],
      "metadata": {
        "id": "3sRyLzXroR1o"
      }
    },
    {
      "cell_type": "code",
      "source": [
        "class Fraction:\n",
        "  def __init__(self,x,y):\n",
        "    self.num = x\n",
        "    self.den = y\n",
        "  \n",
        "  def __str__(self):\n",
        "    return ('{}/{}'.format(self.num,self.den))\n",
        "  \n",
        "  def __add__(self,other):\n",
        "    new_num = self.num * other.den + other.num*self.den\n",
        "    new_den = self.den * other.den\n",
        "    return ('{}/{}'.format(new_num,new_den))\n",
        "\n",
        "  def __sub__(self,other):\n",
        "    new_num = self.num * other.den - other.num*self.den\n",
        "    new_den = self.den * other.den\n",
        "    return ('{}/{}'.format(new_num,new_den))\n",
        "\n",
        "  def __mul__(self,other):\n",
        "    new_num = self.num * other.den * other.num*self.den\n",
        "    new_den = self.den * other.den\n",
        "    return ('{}/{}'.format(new_num,new_den))\n",
        "\n",
        "  def __truediv__(self,other):\n",
        "    new_num = self.num * other.den \n",
        "    new_den = self.den * other.den\n",
        "    return ('{}/{}'.format(new_num,new_den))\n",
        "\n",
        "  def convert_to_decimal(self):\n",
        "    return self.num/self.den"
      ],
      "metadata": {
        "id": "ZbJrSdCXotAs"
      },
      "execution_count": 10,
      "outputs": []
    },
    {
      "cell_type": "code",
      "source": [
        "one = Fraction(3,4)\n",
        "print(one.convert_to_decimal())\n",
        "two = Fraction(2,5)\n",
        "print(two.convert_to_decimal())"
      ],
      "metadata": {
        "colab": {
          "base_uri": "https://localhost:8080/"
        },
        "id": "p6xQZmi1sLlh",
        "outputId": "29c186ae-a0e9-49a4-a8ba-5f2fb99ac32e"
      },
      "execution_count": 13,
      "outputs": [
        {
          "output_type": "stream",
          "name": "stdout",
          "text": [
            "0.75\n",
            "0.4\n"
          ]
        }
      ]
    },
    {
      "cell_type": "code",
      "source": [
        "print(\"Addition : \",one + two)\n",
        "print(\"Subtraction : \",one - two)\n",
        "print(\"Multiplication : \",one * two)\n",
        "print(\"Division : \",one / two)"
      ],
      "metadata": {
        "colab": {
          "base_uri": "https://localhost:8080/"
        },
        "id": "j9V_kKFivuaf",
        "outputId": "473c5ac7-dbe3-4f80-8899-832d7c86f860"
      },
      "execution_count": 16,
      "outputs": [
        {
          "output_type": "stream",
          "name": "stdout",
          "text": [
            "Addition :  23/20\n",
            "Subtraction :  7/20\n",
            "Multiplication :  120/20\n",
            "Division :  15/20\n"
          ]
        }
      ]
    }
  ]
}