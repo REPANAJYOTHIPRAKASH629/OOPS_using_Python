{
  "nbformat": 4,
  "nbformat_minor": 0,
  "metadata": {
    "colab": {
      "provenance": [],
      "authorship_tag": "ABX9TyNcy9rbKXAHBa+Xg4Mo5a/a",
      "include_colab_link": true
    },
    "kernelspec": {
      "name": "python3",
      "display_name": "Python 3"
    },
    "language_info": {
      "name": "python"
    }
  },
  "cells": [
    {
      "cell_type": "markdown",
      "metadata": {
        "id": "view-in-github",
        "colab_type": "text"
      },
      "source": [
        "<a href=\"https://colab.research.google.com/github/REPANAJYOTHIPRAKASH629/OOPS_using_Python/blob/master/mylist.ipynb\" target=\"_parent\"><img src=\"https://colab.research.google.com/assets/colab-badge.svg\" alt=\"Open In Colab\"/></a>"
      ]
    },
    {
      "cell_type": "markdown",
      "source": [
        "# **List data type by using oops concept**"
      ],
      "metadata": {
        "id": "po-UtVGNFme8"
      }
    },
    {
      "cell_type": "code",
      "execution_count": 41,
      "metadata": {
        "id": "5jo4ZAW3FjO4"
      },
      "outputs": [],
      "source": [
        "import ctypes"
      ]
    },
    {
      "cell_type": "code",
      "source": [
        "class mylist:\n",
        "    def __init__(self):\n",
        "        self.size = 1\n",
        "        self.n = 0\n",
        "        # create a ctype array with size= self.size\n",
        "        self.A = self.__make_array(self.size)\n",
        "\n",
        "\n",
        "    def __len__(self):\n",
        "        return self.n\n",
        "\n",
        "\n",
        "    def __str__(self):\n",
        "        #[1,2,3]\n",
        "        result = ''\n",
        "        for i in range(self.n):\n",
        "            result = result + str(self.A[i]) + ','\n",
        "        return '[' + result[:-1] + ']'\n",
        "\n",
        "\n",
        "    def __get__(self,index):\n",
        "        return self.A[index]\n",
        "\n",
        "\n",
        "    def __delitem__(self,pos):\n",
        "        #delete\n",
        "        if 0<=pos<self.n:\n",
        "            for i in range(pos,self.n-1):\n",
        "                self.A[i] = self.A[i+1]\n",
        "            self.n = self.n-1\n",
        "\n",
        "\n",
        "    def append(self,item):\n",
        "        if self.n==self.size:\n",
        "            # resize the array\n",
        "            self.__resize(self.size*2)\n",
        "        # append\n",
        "        self.A[self.n] = item\n",
        "        self.n = self.n+1\n",
        "\n",
        "\n",
        "    def pop(self):\n",
        "        if self.n == 0:\n",
        "            return 'Empty list'\n",
        "        print(self.A[self.n-1])\n",
        "        self.n = self.n-1\n",
        "\n",
        "    def clear(self):\n",
        "        self.n = 0\n",
        "        self.size =1\n",
        "\n",
        "\n",
        "    def find(self,item):\n",
        "        for i in range(self.n):\n",
        "            if self.A[i]==item:\n",
        "                return i\n",
        "        return 'value error --> item not in list'\n",
        "\n",
        "\n",
        "    def insert(self,pos,item):\n",
        "        if self.n == self.size:\n",
        "            self.__resize(self.size*2)\n",
        "        for i in range(self.n,pos,-1):\n",
        "            self.A[i] = self.A[i-1]\n",
        "        self.A[pos] = item\n",
        "        self.n = self.n+1\n",
        "\n",
        "\n",
        "    def remove(self,item):\n",
        "        pos = self.find(item)\n",
        "        if type(pos) == int :\n",
        "            #delete\n",
        "            self.__delitem__(pos)\n",
        "        else:\n",
        "            return pos\n",
        "\n",
        "\n",
        "    def __make_array(self, capacity):\n",
        "        # creates a c type array)static, referential) with size capacity\n",
        "        return (capacity*ctypes.py_object)()\n",
        "\n",
        "    def __resize(self,new_capacity):\n",
        "        # create a new array with new capacity\n",
        "        B = self.__make_array(new_capacity)\n",
        "        self.size = new_capacity\n",
        "        # copy the content of A to B\n",
        "        for i in range(self.n):\n",
        "            B[i] = self.A[i]\n",
        "        # reassign to A\n",
        "        self.A = B"
      ],
      "metadata": {
        "id": "dV9kk3RNF9QF"
      },
      "execution_count": 42,
      "outputs": []
    },
    {
      "cell_type": "code",
      "source": [
        "L = mylist()"
      ],
      "metadata": {
        "id": "k_MebBehF_xk"
      },
      "execution_count": 43,
      "outputs": []
    },
    {
      "cell_type": "code",
      "source": [
        "type(L)"
      ],
      "metadata": {
        "colab": {
          "base_uri": "https://localhost:8080/"
        },
        "id": "nY2Cz4XsGAoM",
        "outputId": "328c5051-1836-4b22-bec1-2233f52adf48"
      },
      "execution_count": 44,
      "outputs": [
        {
          "output_type": "execute_result",
          "data": {
            "text/plain": [
              "__main__.mylist"
            ]
          },
          "metadata": {},
          "execution_count": 44
        }
      ]
    },
    {
      "cell_type": "code",
      "source": [
        "print(L)"
      ],
      "metadata": {
        "colab": {
          "base_uri": "https://localhost:8080/"
        },
        "id": "iexknsO6GAh8",
        "outputId": "c8667335-6094-487c-feb2-0081f9a7e7b8"
      },
      "execution_count": 45,
      "outputs": [
        {
          "output_type": "stream",
          "name": "stdout",
          "text": [
            "[]\n"
          ]
        }
      ]
    },
    {
      "cell_type": "code",
      "source": [
        "len(L)"
      ],
      "metadata": {
        "colab": {
          "base_uri": "https://localhost:8080/"
        },
        "id": "TYSZOMF3GAbE",
        "outputId": "b3fb7193-8672-40e2-df41-558660a23dac"
      },
      "execution_count": 46,
      "outputs": [
        {
          "output_type": "execute_result",
          "data": {
            "text/plain": [
              "0"
            ]
          },
          "metadata": {},
          "execution_count": 46
        }
      ]
    },
    {
      "cell_type": "code",
      "source": [
        "L.append(1)"
      ],
      "metadata": {
        "id": "0lKrlco9GARN"
      },
      "execution_count": 47,
      "outputs": []
    },
    {
      "cell_type": "code",
      "source": [
        "L"
      ],
      "metadata": {
        "colab": {
          "base_uri": "https://localhost:8080/"
        },
        "id": "NoMTD-9vGI_8",
        "outputId": "e50cd339-16f1-424e-eba4-008ca5b476e5"
      },
      "execution_count": 48,
      "outputs": [
        {
          "output_type": "execute_result",
          "data": {
            "text/plain": [
              "<__main__.mylist at 0x7979d0c92e60>"
            ]
          },
          "metadata": {},
          "execution_count": 48
        }
      ]
    },
    {
      "cell_type": "code",
      "source": [
        "L.append(11)\n",
        "L.append(12)\n",
        "L.append(13)\n",
        "L.append(14)\n",
        "L.append(15)"
      ],
      "metadata": {
        "id": "YmZOPs_MGI67"
      },
      "execution_count": 49,
      "outputs": []
    },
    {
      "cell_type": "code",
      "source": [
        "print(L)"
      ],
      "metadata": {
        "colab": {
          "base_uri": "https://localhost:8080/"
        },
        "id": "QeSLTp4CGI0s",
        "outputId": "ef71e09c-8d66-4759-d9dd-21d67d13a8c7"
      },
      "execution_count": 50,
      "outputs": [
        {
          "output_type": "stream",
          "name": "stdout",
          "text": [
            "[1,11,12,13,14,15]\n"
          ]
        }
      ]
    },
    {
      "cell_type": "code",
      "source": [
        "L.insert(2,10)"
      ],
      "metadata": {
        "id": "z9aq0wKaGUZl"
      },
      "execution_count": 51,
      "outputs": []
    },
    {
      "cell_type": "code",
      "source": [
        "print(L)"
      ],
      "metadata": {
        "colab": {
          "base_uri": "https://localhost:8080/"
        },
        "id": "PsJ3HYVfGwxk",
        "outputId": "99ef0d9e-44a8-4bed-e74e-6e487198f52e"
      },
      "execution_count": 52,
      "outputs": [
        {
          "output_type": "stream",
          "name": "stdout",
          "text": [
            "[1,11,10,12,13,14,15]\n"
          ]
        }
      ]
    },
    {
      "cell_type": "code",
      "source": [
        "L.remove(13)"
      ],
      "metadata": {
        "id": "pK47siVhGy2Z"
      },
      "execution_count": 53,
      "outputs": []
    },
    {
      "cell_type": "code",
      "source": [
        "print(L)"
      ],
      "metadata": {
        "colab": {
          "base_uri": "https://localhost:8080/"
        },
        "id": "phFZr93yH8ZK",
        "outputId": "25908328-f36e-4241-a644-1925e1f72150"
      },
      "execution_count": 54,
      "outputs": [
        {
          "output_type": "stream",
          "name": "stdout",
          "text": [
            "[1,11,10,12,14,15]\n"
          ]
        }
      ]
    },
    {
      "cell_type": "code",
      "source": [
        "L.pop()"
      ],
      "metadata": {
        "colab": {
          "base_uri": "https://localhost:8080/"
        },
        "id": "ZkUwTG65IuDj",
        "outputId": "93003f70-1110-41f8-8ec3-d0c24aeedf6b"
      },
      "execution_count": 55,
      "outputs": [
        {
          "output_type": "stream",
          "name": "stdout",
          "text": [
            "15\n"
          ]
        }
      ]
    },
    {
      "cell_type": "code",
      "source": [
        "print(L)"
      ],
      "metadata": {
        "colab": {
          "base_uri": "https://localhost:8080/"
        },
        "id": "pL-HnKAYIuAE",
        "outputId": "58b63987-450e-4f5b-96e3-77cb2e760d64"
      },
      "execution_count": 56,
      "outputs": [
        {
          "output_type": "stream",
          "name": "stdout",
          "text": [
            "[1,11,10,12,14]\n"
          ]
        }
      ]
    },
    {
      "cell_type": "code",
      "source": [
        "len(L)"
      ],
      "metadata": {
        "colab": {
          "base_uri": "https://localhost:8080/"
        },
        "id": "-lUikXCFIt8z",
        "outputId": "171d6aa6-2b72-46c2-9626-ebd2fe9eda53"
      },
      "execution_count": 57,
      "outputs": [
        {
          "output_type": "execute_result",
          "data": {
            "text/plain": [
              "5"
            ]
          },
          "metadata": {},
          "execution_count": 57
        }
      ]
    },
    {
      "cell_type": "code",
      "source": [
        "L.find(14)"
      ],
      "metadata": {
        "colab": {
          "base_uri": "https://localhost:8080/"
        },
        "id": "f4DnRcpQI0j7",
        "outputId": "f1d31763-6da7-4a7c-ca77-5c5393c0aeca"
      },
      "execution_count": 58,
      "outputs": [
        {
          "output_type": "execute_result",
          "data": {
            "text/plain": [
              "4"
            ]
          },
          "metadata": {},
          "execution_count": 58
        }
      ]
    },
    {
      "cell_type": "code",
      "source": [
        "L.find(13)"
      ],
      "metadata": {
        "colab": {
          "base_uri": "https://localhost:8080/",
          "height": 36
        },
        "id": "vR3_sktII6oq",
        "outputId": "99626c4f-a297-45cd-fc53-27fa1fa1911d"
      },
      "execution_count": 59,
      "outputs": [
        {
          "output_type": "execute_result",
          "data": {
            "text/plain": [
              "'value error --> item not in list'"
            ],
            "application/vnd.google.colaboratory.intrinsic+json": {
              "type": "string"
            }
          },
          "metadata": {},
          "execution_count": 59
        }
      ]
    },
    {
      "cell_type": "code",
      "source": [
        "L.clear()"
      ],
      "metadata": {
        "id": "ZqkkfBHjI_-r"
      },
      "execution_count": 60,
      "outputs": []
    },
    {
      "cell_type": "code",
      "source": [
        "print(L)"
      ],
      "metadata": {
        "colab": {
          "base_uri": "https://localhost:8080/"
        },
        "id": "acryFFeuJFWu",
        "outputId": "82f9d1dc-c299-46b5-8d7f-5dcc3babd997"
      },
      "execution_count": 61,
      "outputs": [
        {
          "output_type": "stream",
          "name": "stdout",
          "text": [
            "[]\n"
          ]
        }
      ]
    },
    {
      "cell_type": "code",
      "source": [],
      "metadata": {
        "id": "a84QF4lRJHo0"
      },
      "execution_count": null,
      "outputs": []
    }
  ]
}